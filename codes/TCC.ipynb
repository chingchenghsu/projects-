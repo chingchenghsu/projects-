{
 "metadata": {
  "name": "",
  "signature": "sha256:e4de640a31e34dca20585a9a3b4539698ac29442f685ed9994d602bf247cc332"
 },
 "nbformat": 3,
 "nbformat_minor": 0,
 "worksheets": [
  {
   "cells": [
    {
     "cell_type": "heading",
     "level": 1,
     "metadata": {},
     "source": [
      "The analysis of water content inside the soil "
     ]
    },
    {
     "cell_type": "heading",
     "level": 5,
     "metadata": {},
     "source": [
      "Ching-Cheng Hsu <br>\n",
      "chingchenghsu.physics@googlemail.com"
     ]
    },
    {
     "cell_type": "markdown",
     "metadata": {},
     "source": [
      "\n",
      "References\n",
      "1.  M van Genuchten \" A close-form equation for predicting the hydraulic conductivitiy of unsaturarated soils. (Genuchten1980) <br>\n",
      "2. \"Mesoscale Monitoring of Soil Moisture across a statewide Network\", Illston et. al. ( hereby : MM) <br>\n",
      "3. The website \"Estimating generalized soil-water\" characteristics from texture\" Saxton et. al. (hereby : EG) <br> \n"
     ]
    },
    {
     "cell_type": "markdown",
     "metadata": {},
     "source": [
      "Prerequisite: \n",
      "We need python statsmodel package for time series statistical analysis. It can be installed from <a href=\"http://statsmodels.sourceforge.net/stable/tsa.html\"> here </a>."
     ]
    },
    {
     "cell_type": "code",
     "collapsed": false,
     "input": [
      "%matplotlib inline\n",
      "\n",
      "import matplotlib\n",
      "import matplotlib.pyplot as plt\n",
      "import pandas as pd\n",
      "import numpy as np\n",
      "import matplotlib.pyplot as plt\n",
      "from datetime import datetime, date, time"
     ],
     "language": "python",
     "metadata": {},
     "outputs": [],
     "prompt_number": 27
    },
    {
     "cell_type": "code",
     "collapsed": false,
     "input": [
      "mydata_sensor = pd.read_csv('sensor_data.csv')"
     ],
     "language": "python",
     "metadata": {},
     "outputs": [],
     "prompt_number": 2
    },
    {
     "cell_type": "code",
     "collapsed": false,
     "input": [
      "matrices_potential =  lambda x: -0.717*exp(1.788*x)  #unit kPa "
     ],
     "language": "python",
     "metadata": {},
     "outputs": [],
     "prompt_number": 3
    },
    {
     "cell_type": "code",
     "collapsed": false,
     "input": [
      "mydata_sensor['MP05']=mydata_sensor['TR05'].apply(matrices_potential)  \n",
      "mydata_sensor['MP25']=mydata_sensor['TR25'].apply(matrices_potential)  \n",
      "mydata_sensor['MP60']=mydata_sensor['TR60'].apply(matrices_potential)  \n",
      "mydata_sensor['MP75']=mydata_sensor['TR75'].apply(matrices_potential)  "
     ],
     "language": "python",
     "metadata": {},
     "outputs": [],
     "prompt_number": 4
    },
    {
     "cell_type": "code",
     "collapsed": false,
     "input": [
      "mydata_sensor['DATE']=mydata_sensor.apply(lambda row: str(row['YEAR'])+'-'+ str(row['MONTH'])+'-'+ str(row['DAY']), axis=1)"
     ],
     "language": "python",
     "metadata": {},
     "outputs": [],
     "prompt_number": 5
    },
    {
     "cell_type": "code",
     "collapsed": false,
     "input": [
      "acme_mydata_sensor= mydata_sensor.loc[mydata_sensor['STID'] == 'ACME']"
     ],
     "language": "python",
     "metadata": {},
     "outputs": [],
     "prompt_number": 6
    },
    {
     "cell_type": "code",
     "collapsed": false,
     "input": [
      "s1 = pd.Series(acme_mydata_sensor['MP05'].values, index=acme_mydata_sensor['DATE'])\n",
      "%matplotlib inline\n",
      "s1.plot()"
     ],
     "language": "python",
     "metadata": {},
     "outputs": [
      {
       "metadata": {},
       "output_type": "pyout",
       "prompt_number": 7,
       "text": [
        "<matplotlib.axes._subplots.AxesSubplot at 0x7f96584e5190>"
       ]
      },
      {
       "metadata": {},
       "output_type": "display_data",
       "png": "[encoded data removed]",
       "text": [
        "<matplotlib.figure.Figure at 0x7f9666f29e50>"
       ]
      }
     ],
     "prompt_number": 7
    },
    {
     "cell_type": "markdown",
     "metadata": {},
     "source": [
      "Try to use Formula(6) in the MM paper, however, I could not find the value of $\\alpha$, n, $WC_{r}$ and $WC_{s}$ in the paper. I can't access Arya and Paris(1981) paper in the internet(I have to pay). Therefore I use the values in the Table1 in  van Genuchten (1980) paper. "
     ]
    },
    {
     "cell_type": "markdown",
     "metadata": {},
     "source": [
      "wcr=0.0 # cm^3/cm^3\n",
      "wcs=0.446   # cm^3/cm^3\n",
      "n=1.17  \n",
      "alpha=0.00152  # cm-1\n",
      "''' There values are from Table1 of van Genuchten (1980) paper, the first row Hygiene sandsone. \n",
      "    Note I believe the values here matter. They will affect the estimation of the value of Water content; However, I don't \n",
      "    have any scientific background on choosing which row in Table1 should be choosen, therefore I pick up the last one \n",
      "    just for the demonstration. \n",
      "'''"
     ]
    },
    {
     "cell_type": "code",
     "collapsed": false,
     "input": [
      "def water_content(mp):\n",
      "    term = pow((-alpha*mp),n) \n",
      "    wc = wcr +  (wcs-wcr)/pow((1+term),(1.-1./n))\n",
      "    return wc \n",
      "    ''' This is the Formula(6) in MM paper. '''"
     ],
     "language": "python",
     "metadata": {},
     "outputs": [],
     "prompt_number": 9
    },
    {
     "cell_type": "code",
     "collapsed": false,
     "input": [
      "mydata_sensor['WC05']=mydata_sensor['MP05'].apply(lambda x: water_content(x))\n",
      "mydata_sensor['WC25']=mydata_sensor['MP25'].apply(lambda x: water_content(x))\n",
      "mydata_sensor['WC60']=mydata_sensor['MP60'].apply(lambda x: water_content(x))\n",
      "mydata_sensor['WC75']=mydata_sensor['MP75'].apply(lambda x: water_content(x))"
     ],
     "language": "python",
     "metadata": {},
     "outputs": [],
     "prompt_number": 10
    },
    {
     "cell_type": "heading",
     "level": 5,
     "metadata": {},
     "source": [
      "Using another approach to calculate the water content by uisng the webpage from EG. Using the Formula(2) from EG. "
     ]
    },
    {
     "cell_type": "code",
     "collapsed": false,
     "input": [
      "mydata_sensor.head()"
     ],
     "language": "python",
     "metadata": {},
     "outputs": [
      {
       "html": [
        "<div style=\"max-width:1500px;overflow:auto;\">\n",
        "<table border=\"1\" class=\"dataframe\">\n",
        "  <thead>\n",
        "    <tr style=\"text-align: right;\">\n",
        "      <th></th>\n",
        "      <th>Unnamed: 0</th>\n",
        "      <th>STID</th>\n",
        "      <th>YEAR</th>\n",
        "      <th>MONTH</th>\n",
        "      <th>DAY</th>\n",
        "      <th>TR05</th>\n",
        "      <th>TR25</th>\n",
        "      <th>TR60</th>\n",
        "      <th>TR75</th>\n",
        "      <th>MP05</th>\n",
        "      <th>MP25</th>\n",
        "      <th>MP60</th>\n",
        "      <th>MP75</th>\n",
        "      <th>DATE</th>\n",
        "      <th>WC05</th>\n",
        "      <th>WC25</th>\n",
        "      <th>WC60</th>\n",
        "      <th>WC75</th>\n",
        "    </tr>\n",
        "  </thead>\n",
        "  <tbody>\n",
        "    <tr>\n",
        "      <th>0</th>\n",
        "      <td>200157</td>\n",
        "      <td>ACME</td>\n",
        "      <td>1998</td>\n",
        "      <td>1</td>\n",
        "      <td>1</td>\n",
        "      <td>1.3635</td>\n",
        "      <td>1.3758</td>\n",
        "      <td>1.4249</td>\n",
        "      <td>1.5248</td>\n",
        "      <td>-8.209225</td>\n",
        "      <td>-8.391766</td>\n",
        "      <td>-9.161792</td>\n",
        "      <td>-10.953543</td>\n",
        "      <td>1998-1-1</td>\n",
        "      <td>0.445618</td>\n",
        "      <td>0.445608</td>\n",
        "      <td>0.445565</td>\n",
        "      <td>0.445465</td>\n",
        "    </tr>\n",
        "    <tr>\n",
        "      <th>1</th>\n",
        "      <td>200159</td>\n",
        "      <td>ALTU</td>\n",
        "      <td>1998</td>\n",
        "      <td>1</td>\n",
        "      <td>1</td>\n",
        "      <td>1.7243</td>\n",
        "      <td>1.5529</td>\n",
        "      <td>NaN</td>\n",
        "      <td>NaN</td>\n",
        "      <td>-15.648404</td>\n",
        "      <td>-11.517939</td>\n",
        "      <td>NaN</td>\n",
        "      <td>NaN</td>\n",
        "      <td>1998-1-1</td>\n",
        "      <td>0.445189</td>\n",
        "      <td>0.445432</td>\n",
        "      <td>NaN</td>\n",
        "      <td>NaN</td>\n",
        "    </tr>\n",
        "    <tr>\n",
        "      <th>2</th>\n",
        "      <td>200179</td>\n",
        "      <td>BUFF</td>\n",
        "      <td>1998</td>\n",
        "      <td>1</td>\n",
        "      <td>1</td>\n",
        "      <td>NaN</td>\n",
        "      <td>NaN</td>\n",
        "      <td>NaN</td>\n",
        "      <td>NaN</td>\n",
        "      <td>NaN</td>\n",
        "      <td>NaN</td>\n",
        "      <td>NaN</td>\n",
        "      <td>NaN</td>\n",
        "      <td>1998-1-1</td>\n",
        "      <td>NaN</td>\n",
        "      <td>NaN</td>\n",
        "      <td>NaN</td>\n",
        "      <td>NaN</td>\n",
        "    </tr>\n",
        "    <tr>\n",
        "      <th>3</th>\n",
        "      <td>200288</td>\n",
        "      <td>WEST</td>\n",
        "      <td>1998</td>\n",
        "      <td>1</td>\n",
        "      <td>1</td>\n",
        "      <td>1.5008</td>\n",
        "      <td>1.5126</td>\n",
        "      <td>1.5175</td>\n",
        "      <td>NaN</td>\n",
        "      <td>-10.493447</td>\n",
        "      <td>-10.717194</td>\n",
        "      <td>-10.811502</td>\n",
        "      <td>NaN</td>\n",
        "      <td>1998-1-1</td>\n",
        "      <td>0.445491</td>\n",
        "      <td>0.445478</td>\n",
        "      <td>0.445473</td>\n",
        "      <td>NaN</td>\n",
        "    </tr>\n",
        "    <tr>\n",
        "      <th>4</th>\n",
        "      <td>200294</td>\n",
        "      <td>ACME</td>\n",
        "      <td>1998</td>\n",
        "      <td>1</td>\n",
        "      <td>2</td>\n",
        "      <td>1.3594</td>\n",
        "      <td>1.3749</td>\n",
        "      <td>1.4274</td>\n",
        "      <td>1.5294</td>\n",
        "      <td>-8.149265</td>\n",
        "      <td>-8.378273</td>\n",
        "      <td>-9.202837</td>\n",
        "      <td>-11.044005</td>\n",
        "      <td>1998-1-2</td>\n",
        "      <td>0.445621</td>\n",
        "      <td>0.445608</td>\n",
        "      <td>0.445563</td>\n",
        "      <td>0.445460</td>\n",
        "    </tr>\n",
        "  </tbody>\n",
        "</table>\n",
        "</div>"
       ],
       "metadata": {},
       "output_type": "pyout",
       "prompt_number": 11,
       "text": [
        "   Unnamed: 0  STID  YEAR  MONTH  DAY    TR05    TR25    TR60    TR75  \\\n",
        "0      200157  ACME  1998      1    1  1.3635  1.3758  1.4249  1.5248   \n",
        "1      200159  ALTU  1998      1    1  1.7243  1.5529     NaN     NaN   \n",
        "2      200179  BUFF  1998      1    1     NaN     NaN     NaN     NaN   \n",
        "3      200288  WEST  1998      1    1  1.5008  1.5126  1.5175     NaN   \n",
        "4      200294  ACME  1998      1    2  1.3594  1.3749  1.4274  1.5294   \n",
        "\n",
        "        MP05       MP25       MP60       MP75      DATE      WC05      WC25  \\\n",
        "0  -8.209225  -8.391766  -9.161792 -10.953543  1998-1-1  0.445618  0.445608   \n",
        "1 -15.648404 -11.517939        NaN        NaN  1998-1-1  0.445189  0.445432   \n",
        "2        NaN        NaN        NaN        NaN  1998-1-1       NaN       NaN   \n",
        "3 -10.493447 -10.717194 -10.811502        NaN  1998-1-1  0.445491  0.445478   \n",
        "4  -8.149265  -8.378273  -9.202837 -11.044005  1998-1-2  0.445621  0.445608   \n",
        "\n",
        "       WC60      WC75  \n",
        "0  0.445565  0.445465  \n",
        "1       NaN       NaN  \n",
        "2       NaN       NaN  \n",
        "3  0.445473       NaN  \n",
        "4  0.445563  0.445460  "
       ]
      }
     ],
     "prompt_number": 11
    },
    {
     "cell_type": "code",
     "collapsed": false,
     "input": [
      "def cal_theta_s(sand,clay):\n",
      "    theta_s = 0.0332-7.251e-4*sand+0.1275*log10(clay)\n",
      "    return theta_s                                    # formula (7) from EG    \n",
      "\n",
      "def cal_B(sand, clay):\n",
      "    B= -0.314-0.00222*clay-3.484e-5*sand*sand*clay  # formula (6) from EG\n",
      "    return B\n",
      "\n",
      "def cal_si_c(theta_s):\n",
      "    si_c = 100.*(-0.108+0.341*theta_s)  # formula (8) from EG\n",
      "    return si_c\n",
      "\n",
      "def cal_A(sand,clay):\n",
      "    A = exp(-4.396-0.0715*clay-4.88e-4*sand*sand-4.285e-5*sand*sand*clay)\n",
      "    return A                             # formula (5) from paper EG. \n",
      "\n",
      "def cal_theta(mp,list_temp):\n",
      "    si_c = list_temp[0]\n",
      "    theta_s=list_temp[1]\n",
      "    B=list_temp[2]\n",
      "    A=list_temp[3] \n",
      "    if (abs(mp) <=10.):\n",
      "        logtheta = 1./B*log(mp/si_c)+ log(theta_s)\n",
      "    else:\n",
      "        logtheta = 1./B*log(mp/A)         \n",
      "    return exp(logtheta)          # forma (2) from EG; theta is unknown in the equation \n",
      "    \n",
      "    "
     ],
     "language": "python",
     "metadata": {},
     "outputs": [],
     "prompt_number": 12
    },
    {
     "cell_type": "code",
     "collapsed": false,
     "input": [
      "mydata_soil = pd.read_csv('soil_info.csv')"
     ],
     "language": "python",
     "metadata": {},
     "outputs": [],
     "prompt_number": 13
    },
    {
     "cell_type": "code",
     "collapsed": false,
     "input": [
      "mydata_soil.head()"
     ],
     "language": "python",
     "metadata": {},
     "outputs": [
      {
       "html": [
        "<div style=\"max-width:1500px;overflow:auto;\">\n",
        "<table border=\"1\" class=\"dataframe\">\n",
        "  <thead>\n",
        "    <tr style=\"text-align: right;\">\n",
        "      <th></th>\n",
        "      <th>Unnamed: 0</th>\n",
        "      <th>STID</th>\n",
        "      <th>depth</th>\n",
        "      <th>Sand</th>\n",
        "      <th>Silt</th>\n",
        "      <th>Clay</th>\n",
        "    </tr>\n",
        "  </thead>\n",
        "  <tbody>\n",
        "    <tr>\n",
        "      <th>0</th>\n",
        "      <td>0</td>\n",
        "      <td>ACME</td>\n",
        "      <td>3</td>\n",
        "      <td>73.0</td>\n",
        "      <td>19.7</td>\n",
        "      <td>7.2</td>\n",
        "    </tr>\n",
        "    <tr>\n",
        "      <th>1</th>\n",
        "      <td>1</td>\n",
        "      <td>ACME</td>\n",
        "      <td>20</td>\n",
        "      <td>60.4</td>\n",
        "      <td>23.9</td>\n",
        "      <td>15.7</td>\n",
        "    </tr>\n",
        "    <tr>\n",
        "      <th>2</th>\n",
        "      <td>2</td>\n",
        "      <td>ACME</td>\n",
        "      <td>40</td>\n",
        "      <td>51.5</td>\n",
        "      <td>27.1</td>\n",
        "      <td>21.4</td>\n",
        "    </tr>\n",
        "    <tr>\n",
        "      <th>3</th>\n",
        "      <td>3</td>\n",
        "      <td>ACME</td>\n",
        "      <td>55</td>\n",
        "      <td>52.7</td>\n",
        "      <td>25.9</td>\n",
        "      <td>21.5</td>\n",
        "    </tr>\n",
        "    <tr>\n",
        "      <th>4</th>\n",
        "      <td>4</td>\n",
        "      <td>ACME</td>\n",
        "      <td>70</td>\n",
        "      <td>53.3</td>\n",
        "      <td>24.0</td>\n",
        "      <td>22.7</td>\n",
        "    </tr>\n",
        "  </tbody>\n",
        "</table>\n",
        "</div>"
       ],
       "metadata": {},
       "output_type": "pyout",
       "prompt_number": 14,
       "text": [
        "   Unnamed: 0  STID  depth  Sand  Silt  Clay\n",
        "0           0  ACME      3  73.0  19.7   7.2\n",
        "1           1  ACME     20  60.4  23.9  15.7\n",
        "2           2  ACME     40  51.5  27.1  21.4\n",
        "3           3  ACME     55  52.7  25.9  21.5\n",
        "4           4  ACME     70  53.3  24.0  22.7"
       ]
      }
     ],
     "prompt_number": 14
    },
    {
     "cell_type": "code",
     "collapsed": false,
     "input": [
      "mydata_soil['Theta_s']=mydata_soil.apply(lambda row: cal_theta_s(row['Sand'], row['Clay']), axis=1)  \n",
      "mydata_soil['B']=mydata_soil.apply(lambda row: cal_B(row['Sand'], row['Clay']), axis=1) \n",
      "mydata_soil['Si_c']=mydata_soil.apply(lambda row: cal_si_c(row['Theta_s']), axis=1) \n",
      "mydata_soil['A']=mydata_soil.apply(lambda row: cal_A(row['Sand'], row['Clay']), axis=1) "
     ],
     "language": "python",
     "metadata": {},
     "outputs": [],
     "prompt_number": 15
    },
    {
     "cell_type": "code",
     "collapsed": false,
     "input": [
      "mydata_soil.head()"
     ],
     "language": "python",
     "metadata": {},
     "outputs": [
      {
       "html": [
        "<div style=\"max-width:1500px;overflow:auto;\">\n",
        "<table border=\"1\" class=\"dataframe\">\n",
        "  <thead>\n",
        "    <tr style=\"text-align: right;\">\n",
        "      <th></th>\n",
        "      <th>Unnamed: 0</th>\n",
        "      <th>STID</th>\n",
        "      <th>depth</th>\n",
        "      <th>Sand</th>\n",
        "      <th>Silt</th>\n",
        "      <th>Clay</th>\n",
        "      <th>Theta_s</th>\n",
        "      <th>B</th>\n",
        "      <th>Si_c</th>\n",
        "      <th>A</th>\n",
        "    </tr>\n",
        "  </thead>\n",
        "  <tbody>\n",
        "    <tr>\n",
        "      <th>0</th>\n",
        "      <td>0</td>\n",
        "      <td>ACME</td>\n",
        "      <td>3</td>\n",
        "      <td>73.0</td>\n",
        "      <td>19.7</td>\n",
        "      <td>7.2</td>\n",
        "      <td>0.089578</td>\n",
        "      <td>-1.666753</td>\n",
        "      <td>-7.745404</td>\n",
        "      <td>0.000106</td>\n",
        "    </tr>\n",
        "    <tr>\n",
        "      <th>1</th>\n",
        "      <td>1</td>\n",
        "      <td>ACME</td>\n",
        "      <td>20</td>\n",
        "      <td>60.4</td>\n",
        "      <td>23.9</td>\n",
        "      <td>15.7</td>\n",
        "      <td>0.141881</td>\n",
        "      <td>-2.344354</td>\n",
        "      <td>-5.961852</td>\n",
        "      <td>0.000058</td>\n",
        "    </tr>\n",
        "    <tr>\n",
        "      <th>2</th>\n",
        "      <td>2</td>\n",
        "      <td>ACME</td>\n",
        "      <td>40</td>\n",
        "      <td>51.5</td>\n",
        "      <td>27.1</td>\n",
        "      <td>21.4</td>\n",
        "      <td>0.165485</td>\n",
        "      <td>-2.338962</td>\n",
        "      <td>-5.156958</td>\n",
        "      <td>0.000064</td>\n",
        "    </tr>\n",
        "    <tr>\n",
        "      <th>3</th>\n",
        "      <td>3</td>\n",
        "      <td>ACME</td>\n",
        "      <td>55</td>\n",
        "      <td>52.7</td>\n",
        "      <td>25.9</td>\n",
        "      <td>21.5</td>\n",
        "      <td>0.164873</td>\n",
        "      <td>-2.442087</td>\n",
        "      <td>-5.177826</td>\n",
        "      <td>0.000053</td>\n",
        "    </tr>\n",
        "    <tr>\n",
        "      <th>4</th>\n",
        "      <td>4</td>\n",
        "      <td>ACME</td>\n",
        "      <td>70</td>\n",
        "      <td>53.3</td>\n",
        "      <td>24.0</td>\n",
        "      <td>22.7</td>\n",
        "      <td>0.167445</td>\n",
        "      <td>-2.611163</td>\n",
        "      <td>-5.090110</td>\n",
        "      <td>0.000038</td>\n",
        "    </tr>\n",
        "  </tbody>\n",
        "</table>\n",
        "</div>"
       ],
       "metadata": {},
       "output_type": "pyout",
       "prompt_number": 16,
       "text": [
        "   Unnamed: 0  STID  depth  Sand  Silt  Clay   Theta_s         B      Si_c  \\\n",
        "0           0  ACME      3  73.0  19.7   7.2  0.089578 -1.666753 -7.745404   \n",
        "1           1  ACME     20  60.4  23.9  15.7  0.141881 -2.344354 -5.961852   \n",
        "2           2  ACME     40  51.5  27.1  21.4  0.165485 -2.338962 -5.156958   \n",
        "3           3  ACME     55  52.7  25.9  21.5  0.164873 -2.442087 -5.177826   \n",
        "4           4  ACME     70  53.3  24.0  22.7  0.167445 -2.611163 -5.090110   \n",
        "\n",
        "          A  \n",
        "0  0.000106  \n",
        "1  0.000058  \n",
        "2  0.000064  \n",
        "3  0.000053  \n",
        "4  0.000038  "
       ]
      }
     ],
     "prompt_number": 16
    },
    {
     "cell_type": "code",
     "collapsed": false,
     "input": [
      "from collections import defaultdict\n",
      "place_list=[\"ACME\",\"ALTU\",\"BUFF\",\"WEST\"]\n",
      "depth_list=[3,20,55,70]\n",
      "tuple_dict=defaultdict(list)\n",
      "for place in place_list:\n",
      "    for de in depth_list:\n",
      "        th_s_temp=mydata_soil['Theta_s'][(mydata_soil.STID==place) & (mydata_soil.depth==de)]\n",
      "        b_temp = mydata_soil['B'][(mydata_soil.STID==place) & (mydata_soil.depth==de)]\n",
      "        a_temp= mydata_soil['A'][(mydata_soil.STID==place) & (mydata_soil.depth==de)]    \n",
      "        si_c_temp= mydata_soil['Si_c'][(mydata_soil.STID==place) & (mydata_soil.depth==de)]                          \n",
      "        li_temp=[si_c_temp, th_s_temp,b_temp, a_temp]\n",
      "        tuple_dict[(place,de)].append(si_c_temp)\n",
      "        tuple_dict[(place,de)].append(th_s_temp)\n",
      "        tuple_dict[(place,de)].append(b_temp)\n",
      "        tuple_dict[(place,de)].append(a_temp)\n",
      "'''\n",
      "    Note the purpose of this function is to get the correct theta_s, B, A, si_c values from mydata_soil dataframe  with  \n",
      "    the restriction on depth and place. This parameters will be used for input of the function cal_tehta in order to\n",
      "    get the water content but from the \"website EG  approach\"\n",
      "'''  \n",
      "#for place in place_list:\n",
      "#    for de in depth_list:\n",
      "#        print(tuple_dict[(place,de)][0])"
     ],
     "language": "python",
     "metadata": {},
     "outputs": [
      {
       "metadata": {},
       "output_type": "pyout",
       "prompt_number": 17,
       "text": [
        "'\\n    Note the purpose of this function is to get the correct theta_s, B, A, si_c values from mydata_soil dataframe  with  \\n    the restriction on depth and place. This parameters will be used for input of the function cal_tehta in order to\\n    get the water content but from the \"website EG  approach\"\\n'"
       ]
      }
     ],
     "prompt_number": 17
    },
    {
     "cell_type": "code",
     "collapsed": false,
     "input": [
      "for place in place_list:\n",
      "    for de in depth_list:\n",
      "        if(de==3):\n",
      "            mydata_sensor['M2_WC05']=mydata_sensor.apply(lambda row: cal_theta(row['MP05'], tuple_dict[(place,de)]), axis=1)\n",
      "        elif(de==20):\n",
      "            mydata_sensor['M2_WC25']=mydata_sensor.apply(lambda row: cal_theta(row['MP25'], tuple_dict[(place,de)]), axis=1)\n",
      "        elif(de==55):\n",
      "            mydata_sensor['M2_WC60']=mydata_sensor.apply(lambda row: cal_theta(row['MP60'],tuple_dict[(place,de)]), axis=1)\n",
      "        elif(de==70):\n",
      "            mydata_sensor['M2_WC75']=mydata_sensor.apply(lambda row: cal_theta(row['MP75'], tuple_dict[(place,de)]),axis=1)\n",
      "        else:\n",
      "            mydata_sensor['M2_WC']='Unkown'   # this is the missing layer when depth==40 cm"
     ],
     "language": "python",
     "metadata": {},
     "outputs": [],
     "prompt_number": 18
    },
    {
     "cell_type": "code",
     "collapsed": false,
     "input": [
      "acme_sub_depth05 =  mydata_sensor.loc[mydata_sensor['STID'] == 'ACME']\n",
      "m2_wc_acme_depth05 = pd.Series(acme_sub_depth05['M2_WC05'].values, index=acme_sub_depth05['DATE'])\n",
      "wc_acme_depth05 = pd.Series(acme_sub_depth05['WC05'].values, index=acme_sub_depth05['DATE'])\n",
      "ylim([0.,0.5])\n",
      "m2_wc_acme_depth05.plot(color='red', label=\"Method 2\")\n",
      "wc_acme_depth05.plot(color='green', label=\"Method 1\")\n",
      "legend(loc='center right')"
     ],
     "language": "python",
     "metadata": {},
     "outputs": [
      {
       "metadata": {},
       "output_type": "pyout",
       "prompt_number": 36,
       "text": [
        "<matplotlib.legend.Legend at 0x7f96581666d0>"
       ]
      },
      {
       "metadata": {},
       "output_type": "display_data",
       "png": "[encoded data removed]",
       "text": [
        "<matplotlib.figure.Figure at 0x7f96583e6190>"
       ]
      }
     ],
     "prompt_number": 36
    },
    {
     "cell_type": "markdown",
     "metadata": {},
     "source": [
      "From above plot, it is obvious that there is a big discrepency between two methods. The reasons could be :\n",
      "\n",
      "1. I don't know the details of the coefficient in Method 1. In Table 1 in Genuchten(1980), I don't know exactly which row to be used.  \n",
      "\n",
      "2. Looks like the formula in EG may be mis-used. "
     ]
    },
    {
     "cell_type": "markdown",
     "metadata": {},
     "source": [
      "Let's see how the other layer looks like; for instance, the layer with depth 20-30 cm"
     ]
    },
    {
     "cell_type": "code",
     "collapsed": false,
     "input": [
      "acme_sub_depth25 =  mydata_sensor.loc[mydata_sensor['STID'] == 'ACME']\n",
      "m2_wc_acme_depth25 = pd.Series(acme_sub_depth05['M2_WC25'].values, index=acme_sub_depth05['DATE'])\n",
      "wc_acme_depth25 = pd.Series(acme_sub_depth05['WC25'].values, index=acme_sub_depth05['DATE'])\n",
      "ylim([0.,0.5])\n",
      "m2_wc_acme_depth25.plot(color='red', label=\"Method 2\")\n",
      "wc_acme_depth25.plot(color='green', label=\"Method 1\")\n",
      "legend(loc='center right')"
     ],
     "language": "python",
     "metadata": {},
     "outputs": [
      {
       "metadata": {},
       "output_type": "pyout",
       "prompt_number": 42,
       "text": [
        "<matplotlib.legend.Legend at 0x7f9657ceef10>"
       ]
      },
      {
       "metadata": {},
       "output_type": "display_data",
       "png": "[encoded data removed]",
       "text": [
        "<matplotlib.figure.Figure at 0x7f9657cee8d0>"
       ]
      }
     ],
     "prompt_number": 42
    },
    {
     "cell_type": "markdown",
     "metadata": {},
     "source": [
      "Let's assume the results are more or less correct ( even though, they are very suspective). But here I just want to demonstrate the methods and algorithms which I know.  \n",
      "\n",
      "So we ask ourself two questions: \n",
      "\n",
      "<b> 1. How similar the results are from Method1 and Method2  ? </b>  <br>\n",
      "<b> 2. The Method 1 result shows clearly the seasonal effects. Can we model it using known time series algorithms ? </b> \n",
      "\n",
      "The first question : \n",
      "How to calculate (or define) the similarities between two time series S1 and S2 ? <br>\n",
      "One method is to use correlation function "
     ]
    },
    {
     "cell_type": "code",
     "collapsed": false,
     "input": [
      "import statsmodels as sm\n",
      "import statsmodels.api as smapi"
     ],
     "language": "python",
     "metadata": {},
     "outputs": [],
     "prompt_number": 43
    },
    {
     "cell_type": "code",
     "collapsed": false,
     "input": [
      "correlate_2methods_acme_dep05 = sm.tsa.stattools.ccf(m2_wc_acme_depth05.dropna(), wc_acme_depth05.dropna(), unbiased=False)"
     ],
     "language": "python",
     "metadata": {},
     "outputs": [],
     "prompt_number": 68
    },
    {
     "cell_type": "code",
     "collapsed": false,
     "input": [
      "ylim([-1.,1.])\n",
      "xlim([0,2000])\n",
      "plot(correlate_2methods_acme_dep05, 'b', label=\"Correlation between two time series from two different methods \")\n",
      "legend(loc='upper right')"
     ],
     "language": "python",
     "metadata": {},
     "outputs": [
      {
       "metadata": {},
       "output_type": "pyout",
       "prompt_number": 69,
       "text": [
        "<matplotlib.legend.Legend at 0x7f964d813a90>"
       ]
      },
      {
       "metadata": {},
       "output_type": "display_data",
       "png": "[encoded data removed]",
       "text": [
        "<matplotlib.figure.Figure at 0x7f964d813b10>"
       ]
      }
     ],
     "prompt_number": 69
    },
    {
     "cell_type": "markdown",
     "metadata": {},
     "source": [
      "The correlation coef. between two methods at different time lags. \n",
      "The next question is how about the self-correlation for the time series ? "
     ]
    },
    {
     "cell_type": "code",
     "collapsed": false,
     "input": [
      "auto_wc_acme_depth05 = sm.tsa.stattools.acf(diff(wc_acme_depth05.dropna()), nlags=2000)\n",
      "''' Apply ACF function on the first order differencing of each terms'''"
     ],
     "language": "python",
     "metadata": {},
     "outputs": [],
     "prompt_number": 55
    },
    {
     "cell_type": "code",
     "collapsed": false,
     "input": [
      "ylim([-0.1,0.1])\n",
      "xlim([0,2000])\n",
      "axhline(y=0.05, xmin=0., xmax=2000, linewidth=2, color = 'r')\n",
      "axhline(y=-0.05, xmin=0., xmax=2000, linewidth=2, color = 'r')\n",
      "plot(auto_wc_acme_depth05, 'b', label=\"ACF plot of the difference between neighboring terms\")\n",
      "legend(loc='upper right')"
     ],
     "language": "python",
     "metadata": {},
     "outputs": [
      {
       "metadata": {},
       "output_type": "pyout",
       "prompt_number": 59,
       "text": [
        "<matplotlib.legend.Legend at 0x7f964d969190>"
       ]
      },
      {
       "metadata": {},
       "output_type": "display_data",
       "png": "[encoded data removed]",
       "text": [
        "<matplotlib.figure.Figure at 0x7f964dae43d0>"
       ]
      }
     ],
     "prompt_number": 59
    },
    {
     "cell_type": "markdown",
     "metadata": {},
     "source": [
      "The 5% line is a criteria for strength of the correlation. If the ACF coef. is larger than 5%, means at that particular lag, there is a strong correlation between two series. We can read detail theories from <a href=\"http://sfb649.wiwi.hu-berlin.de/fedc_homepage/xplore/tutorials/xegbohtmlnode39.html\"> here  <a>\n",
      "\n",
      "This means the The water content time series is not pure \"random walk\" process. Because the difference between two nearby numbers are not pure white noise (Thay have correlations). Thus we need to model it with more complicated models. \n",
      "Let's try more general model which is ARMA model. ARMA model is a combination of AR and MA model, which I won't discuss further here. "
     ]
    },
    {
     "cell_type": "markdown",
     "metadata": {},
     "source": [
      "<b> Conclusion </b> <br>\n",
      "<br>\n",
      "I appreciate Climate Corporation let me join the challenge. I could not finish the challenge. I think I don't have enough of correponding scientific background could be a main reason. Some parameters and information, from my limited soil physics knowledge, are missing or not very clear to me. The results from two approaches are not very reasonable to me. Neverthelss, \n",
      "I am very enjoying the code implementations and time series analysis parts. I think I have tried my best. If you have any comment/suggestion/correction, welcome to send me email or call me.     \n",
      "   \n"
     ]
    },
    {
     "cell_type": "code",
     "collapsed": false,
     "input": [],
     "language": "python",
     "metadata": {},
     "outputs": []
    }
   ],
   "metadata": {}
  }
 ]
}